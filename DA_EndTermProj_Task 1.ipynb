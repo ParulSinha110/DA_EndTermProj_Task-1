{
 "cells": [
  {
   "cell_type": "markdown",
   "id": "3264478b",
   "metadata": {},
   "source": [
    "# PART I \n",
    ">>>Using Pipeline preprocess the shopping data, do test and train and then test using test data set"
   ]
  },
  {
   "cell_type": "markdown",
   "id": "bba8db5e",
   "metadata": {},
   "source": [
    "PROBLEM IDENTIFICATION: The given dataset is on clickstream from an online store offering clothing for pregnant women contains valuable information that can be utilized for various purposes, such as understanding user behavior, optimizing webpage layout, and predicting product categories. The problem identified here is to predict the product category based on the given features in the dataset. This prediction can be useful for targeted marketing, personalized recommendations, and improving the overall user experience on the online store.\n",
    "\n",
    "OUR TARGET VARIABLE IS : PAGE\n",
    "For a certain input we can find the page number of the product category we are trying to search in the e-store website."
   ]
  },
  {
   "cell_type": "code",
   "execution_count": 15,
   "id": "d8700791",
   "metadata": {},
   "outputs": [],
   "source": [
    "#Reference: https://www.kaggle.com/cemutku/k-means-and-hierarchical-clustering-implementation\n",
    "import numpy as np # linear algebra\n",
    "import pandas as pd # data processing, CSV file I/O (e.g. pd.read_csv)\n",
    "import matplotlib.pyplot as plt\n",
    "import seaborn as sns"
   ]
  },
  {
   "cell_type": "code",
   "execution_count": 18,
   "id": "9030b037",
   "metadata": {},
   "outputs": [],
   "source": [
    "#reading the shopping dataset\n",
    "\n",
    "excel_file_path = \"C://Users//HP//Downloads//EXCEL DATA.xlsx\"\n",
    "\n",
    "# Read the Excel file into a DataFrame\n",
    "df = pd.read_excel(excel_file_path)\n"
   ]
  },
  {
   "cell_type": "code",
   "execution_count": 19,
   "id": "fed8b1c0",
   "metadata": {
    "scrolled": false
   },
   "outputs": [
    {
     "data": {
      "text/html": [
       "<div>\n",
       "<style scoped>\n",
       "    .dataframe tbody tr th:only-of-type {\n",
       "        vertical-align: middle;\n",
       "    }\n",
       "\n",
       "    .dataframe tbody tr th {\n",
       "        vertical-align: top;\n",
       "    }\n",
       "\n",
       "    .dataframe thead th {\n",
       "        text-align: right;\n",
       "    }\n",
       "</style>\n",
       "<table border=\"1\" class=\"dataframe\">\n",
       "  <thead>\n",
       "    <tr style=\"text-align: right;\">\n",
       "      <th></th>\n",
       "      <th>year</th>\n",
       "      <th>month</th>\n",
       "      <th>day</th>\n",
       "      <th>order</th>\n",
       "      <th>country</th>\n",
       "      <th>session ID</th>\n",
       "      <th>page 1 (main category)</th>\n",
       "      <th>page 2 (clothing model)</th>\n",
       "      <th>colour</th>\n",
       "      <th>location</th>\n",
       "      <th>model photography</th>\n",
       "      <th>price</th>\n",
       "      <th>price 2</th>\n",
       "      <th>page</th>\n",
       "    </tr>\n",
       "  </thead>\n",
       "  <tbody>\n",
       "    <tr>\n",
       "      <th>0</th>\n",
       "      <td>2008</td>\n",
       "      <td>4</td>\n",
       "      <td>1</td>\n",
       "      <td>1</td>\n",
       "      <td>29</td>\n",
       "      <td>1</td>\n",
       "      <td>1</td>\n",
       "      <td>A13</td>\n",
       "      <td>1</td>\n",
       "      <td>5</td>\n",
       "      <td>1</td>\n",
       "      <td>28</td>\n",
       "      <td>2</td>\n",
       "      <td>1</td>\n",
       "    </tr>\n",
       "    <tr>\n",
       "      <th>1</th>\n",
       "      <td>2008</td>\n",
       "      <td>4</td>\n",
       "      <td>1</td>\n",
       "      <td>2</td>\n",
       "      <td>29</td>\n",
       "      <td>1</td>\n",
       "      <td>1</td>\n",
       "      <td>A16</td>\n",
       "      <td>1</td>\n",
       "      <td>6</td>\n",
       "      <td>1</td>\n",
       "      <td>33</td>\n",
       "      <td>2</td>\n",
       "      <td>1</td>\n",
       "    </tr>\n",
       "    <tr>\n",
       "      <th>2</th>\n",
       "      <td>2008</td>\n",
       "      <td>4</td>\n",
       "      <td>1</td>\n",
       "      <td>3</td>\n",
       "      <td>29</td>\n",
       "      <td>1</td>\n",
       "      <td>2</td>\n",
       "      <td>B4</td>\n",
       "      <td>10</td>\n",
       "      <td>2</td>\n",
       "      <td>1</td>\n",
       "      <td>52</td>\n",
       "      <td>1</td>\n",
       "      <td>1</td>\n",
       "    </tr>\n",
       "    <tr>\n",
       "      <th>3</th>\n",
       "      <td>2008</td>\n",
       "      <td>4</td>\n",
       "      <td>1</td>\n",
       "      <td>4</td>\n",
       "      <td>29</td>\n",
       "      <td>1</td>\n",
       "      <td>2</td>\n",
       "      <td>B17</td>\n",
       "      <td>6</td>\n",
       "      <td>6</td>\n",
       "      <td>2</td>\n",
       "      <td>38</td>\n",
       "      <td>2</td>\n",
       "      <td>1</td>\n",
       "    </tr>\n",
       "    <tr>\n",
       "      <th>4</th>\n",
       "      <td>2008</td>\n",
       "      <td>4</td>\n",
       "      <td>1</td>\n",
       "      <td>5</td>\n",
       "      <td>29</td>\n",
       "      <td>1</td>\n",
       "      <td>2</td>\n",
       "      <td>B8</td>\n",
       "      <td>4</td>\n",
       "      <td>3</td>\n",
       "      <td>2</td>\n",
       "      <td>52</td>\n",
       "      <td>1</td>\n",
       "      <td>1</td>\n",
       "    </tr>\n",
       "  </tbody>\n",
       "</table>\n",
       "</div>"
      ],
      "text/plain": [
       "   year  month  day  order  country  session ID  page 1 (main category)  \\\n",
       "0  2008      4    1      1       29           1                       1   \n",
       "1  2008      4    1      2       29           1                       1   \n",
       "2  2008      4    1      3       29           1                       2   \n",
       "3  2008      4    1      4       29           1                       2   \n",
       "4  2008      4    1      5       29           1                       2   \n",
       "\n",
       "  page 2 (clothing model)  colour  location  model photography  price  \\\n",
       "0                     A13       1         5                  1     28   \n",
       "1                     A16       1         6                  1     33   \n",
       "2                      B4      10         2                  1     52   \n",
       "3                     B17       6         6                  2     38   \n",
       "4                      B8       4         3                  2     52   \n",
       "\n",
       "   price 2  page  \n",
       "0        2     1  \n",
       "1        2     1  \n",
       "2        1     1  \n",
       "3        2     1  \n",
       "4        1     1  "
      ]
     },
     "execution_count": 19,
     "metadata": {},
     "output_type": "execute_result"
    }
   ],
   "source": [
    "df.head()"
   ]
  },
  {
   "cell_type": "code",
   "execution_count": 20,
   "id": "7c9c42dc",
   "metadata": {},
   "outputs": [],
   "source": [
    "## A. Data manipulation\n",
    "import numpy as np\n",
    "import pandas as pd\n",
    "\n",
    "# 1.2 for data splitting\n",
    "from sklearn.model_selection import train_test_split\n",
    "\n",
    "## B. Transformers for predictors:\n",
    "\n",
    "# 1.3 Class for imputing missing values\n",
    "# https://scikit-learn.org/stable/modules/generated/sklearn.impute.SimpleImputer.html\n",
    "from sklearn.impute import SimpleImputer\n",
    "\n",
    "# 1.4 One hot encode categorical data--Convert to dummy\n",
    "# https://scikit-learn.org/stable/modules/generated/sklearn.preprocessing.OneHotEncoder.html\n",
    "from sklearn.preprocessing import OneHotEncoder as onehot\n",
    "\n",
    "# 1.5 Scale numeric data\n",
    "from sklearn.preprocessing import StandardScaler\n",
    "\n",
    "## C. Transformer for target:\n",
    "\n",
    "# 1.6 Label encode target column\n",
    "from sklearn.preprocessing import LabelEncoder\n",
    "\n",
    "\n",
    "## D. Composite Transformers:\n",
    "\n",
    "# 1.7 Class for applying multiple data transformation\n",
    "#     jobs parallely\n",
    "from sklearn.compose import ColumnTransformer\n",
    "\n",
    "# 1.8 Pipeline class: Class for applying multiple\n",
    "#     data transformations sequentially\n",
    "from sklearn.pipeline import Pipeline\n",
    "\n",
    "## E. Estimator\n",
    "\n",
    "#random forest\n",
    "from sklearn.ensemble import RandomForestClassifier\n",
    "\n",
    "# 1.10 To plot pipeline diagram\n",
    "from sklearn import set_config"
   ]
  },
  {
   "cell_type": "code",
   "execution_count": 21,
   "id": "a65bb3ab",
   "metadata": {},
   "outputs": [],
   "source": [
    "from IPython.core.interactiveshell import InteractiveShell\n",
    "InteractiveShell.ast_node_interactivity = \"all\""
   ]
  },
  {
   "cell_type": "code",
   "execution_count": 22,
   "id": "99a4c6c0",
   "metadata": {},
   "outputs": [],
   "source": [
    "# 2.0 Import warnings module\n",
    "import warnings\n",
    "# 2.1 Do not print warnings on screen\n",
    "warnings.filterwarnings(\"ignore\")"
   ]
  },
  {
   "cell_type": "markdown",
   "id": "322992c9",
   "metadata": {},
   "source": [
    "Read and preprocess data\n",
    "(#3.0--#3.2)\n",
    "Read data, create simple cat features and shuffle data"
   ]
  },
  {
   "cell_type": "code",
   "execution_count": 23,
   "id": "a2cdc1f8",
   "metadata": {},
   "outputs": [
    {
     "name": "stdout",
     "output_type": "stream",
     "text": [
      "(65535, 14)\n"
     ]
    }
   ],
   "source": [
    "print (df.shape)"
   ]
  },
  {
   "cell_type": "code",
   "execution_count": 24,
   "id": "fb81a9cd",
   "metadata": {},
   "outputs": [],
   "source": [
    "df=df.drop(['session ID'],axis=1)"
   ]
  },
  {
   "cell_type": "code",
   "execution_count": 25,
   "id": "c21df52f",
   "metadata": {},
   "outputs": [
    {
     "data": {
      "text/plain": [
       "year                       0\n",
       "month                      0\n",
       "day                        0\n",
       "order                      0\n",
       "country                    0\n",
       "page 1 (main category)     0\n",
       "page 2 (clothing model)    0\n",
       "colour                     0\n",
       "location                   0\n",
       "model photography          0\n",
       "price                      0\n",
       "price 2                    0\n",
       "page                       0\n",
       "dtype: int64"
      ]
     },
     "execution_count": 25,
     "metadata": {},
     "output_type": "execute_result"
    }
   ],
   "source": [
    "df.isna().sum()"
   ]
  },
  {
   "cell_type": "code",
   "execution_count": 26,
   "id": "e5f2a7c2",
   "metadata": {},
   "outputs": [
    {
     "name": "stdout",
     "output_type": "stream",
     "text": [
      "       year  month  day  order  country  page 1 (main category)  \\\n",
      "18801  2008      4   10     19       29                       4   \n",
      "16311  2008      4    8     71       24                       4   \n",
      "25625  2008      4   14     11       29                       3   \n",
      "40681  2008      4   24      5        9                       2   \n",
      "22849  2008      4   12     12        9                       3   \n",
      "...     ...    ...  ...    ...      ...                     ...   \n",
      "1524   2008      4    1     18       29                       2   \n",
      "17919  2008      4    9      6       29                       3   \n",
      "40673  2008      4   24      8       29                       4   \n",
      "49315  2008      5    1     16       29                       4   \n",
      "5756   2008      4    2     25       29                       1   \n",
      "\n",
      "      page 2 (clothing model)  colour  location  model photography  price  \\\n",
      "18801                     P59       2         2                  2     38   \n",
      "16311                      P9       4         3                  2     23   \n",
      "25625                     C57       5         1                  2     33   \n",
      "40681                     B33       6         5                  2     33   \n",
      "22849                      C9       6         3                  1     48   \n",
      "...                       ...     ...       ...                ...    ...   \n",
      "1524                       B4      10         2                  1     52   \n",
      "17919                      C5      11         2                  1     48   \n",
      "40673                     P57       4         1                  1     43   \n",
      "49315                     P52      11         6                  2     23   \n",
      "5756                      A37       2         1                  1     62   \n",
      "\n",
      "       price 2  page  \n",
      "18801        1     4  \n",
      "16311        2     1  \n",
      "25625        2     4  \n",
      "40681        2     2  \n",
      "22849        1     1  \n",
      "...        ...   ...  \n",
      "1524         1     1  \n",
      "17919        1     1  \n",
      "40673        1     4  \n",
      "49315        2     3  \n",
      "5756         1     3  \n",
      "\n",
      "[65535 rows x 13 columns]\n",
      "(65535, 13)\n"
     ]
    }
   ],
   "source": [
    "# 3.2 Randomly shuffle data as values \n",
    "#     in 'credibility' column have an order\n",
    "df = df.sample(frac = 1) \n",
    "print (df)\n",
    "print (df.shape)    "
   ]
  },
  {
   "cell_type": "markdown",
   "id": "9a5b9b6d",
   "metadata": {},
   "source": [
    "Data splitting\n",
    "(#3.3--#4.1)\n",
    "i) Separate predictors and target.\n",
    "ii) Create train/test data."
   ]
  },
  {
   "cell_type": "code",
   "execution_count": 27,
   "id": "6f44ffe3",
   "metadata": {},
   "outputs": [
    {
     "data": {
      "text/plain": [
       "18801    4\n",
       "16311    1\n",
       "25625    4\n",
       "Name: page, dtype: int64"
      ]
     },
     "execution_count": 27,
     "metadata": {},
     "output_type": "execute_result"
    },
    {
     "data": {
      "text/plain": [
       "(65535, 12)"
      ]
     },
     "execution_count": 27,
     "metadata": {},
     "output_type": "execute_result"
    }
   ],
   "source": [
    "# 3.3    Popout target\n",
    "#        to separate predictors and target\n",
    "\n",
    "y = df.pop('page')\n",
    "y[:3]      # Pandas Series\n",
    "\n",
    "# 3.4   Create an alias of predictors dataset \n",
    "X = df     # X is another name for df\n",
    "X.shape    # (14,7)"
   ]
  },
  {
   "cell_type": "code",
   "execution_count": 28,
   "id": "e242b4bc",
   "metadata": {},
   "outputs": [
    {
     "data": {
      "text/plain": [
       "'X_train shape: (52428, 12)'"
      ]
     },
     "execution_count": 28,
     "metadata": {},
     "output_type": "execute_result"
    },
    {
     "name": "stdout",
     "output_type": "stream",
     "text": [
      "\n"
     ]
    },
    {
     "data": {
      "text/plain": [
       "'X_test.shape : (13107, 12)'"
      ]
     },
     "execution_count": 28,
     "metadata": {},
     "output_type": "execute_result"
    },
    {
     "name": "stdout",
     "output_type": "stream",
     "text": [
      "\n"
     ]
    },
    {
     "data": {
      "text/plain": [
       "'y_train shape: (52428,)'"
      ]
     },
     "execution_count": 28,
     "metadata": {},
     "output_type": "execute_result"
    },
    {
     "name": "stdout",
     "output_type": "stream",
     "text": [
      "\n"
     ]
    },
    {
     "data": {
      "text/plain": [
       "'y_test shape : (13107,)'"
      ]
     },
     "execution_count": 28,
     "metadata": {},
     "output_type": "execute_result"
    }
   ],
   "source": [
    "# 4.0 Split dataset. We will preprocess X_train and apply that\n",
    "#     processing to X_test later\n",
    "X_train,X_test, y_train, y_test = train_test_split(\n",
    "                                                    X,                   # Data features\n",
    "                                                    y,                   # Target column\n",
    "                                                    test_size = 0.2      # split-ratio\n",
    "                                                    )\n",
    "\n",
    "# 4.1 Note the use of f-string for printing\n",
    "f\"X_train shape: {X_train.shape}\"    # (11,7)\n",
    "print()\n",
    "f\"X_test.shape : {X_test.shape}\"     # (3,7)\n",
    "print()\n",
    "f\"y_train shape: {y_train.shape}\"    # (11,)\n",
    "print()\n",
    "f\"y_test shape : {y_test.shape}\"     # (3,)"
   ]
  },
  {
   "cell_type": "markdown",
   "id": "2962f38c",
   "metadata": {},
   "source": [
    "### Separate out categorical and numerical features\n",
    "Any (integer) feature with less than 5 unique-values is categorical. Here is how we process:\n",
    "\n",
    "I. Get a list of `cat_cols` and `num_cols`.\n",
    "\n",
    "II. Categorical features processing:\n",
    "-  Imputation \n",
    "> - Impute most-frequent value\n",
    "> - Impute constant value\n",
    "- Encoding\n",
    "> -  Target encoding of target only\n",
    "> -  OneHotEncoding of rest features\n",
    "\n",
    "III. Numeric features processing\n",
    "-  Imputation \n",
    "> - Impute median\n",
    "> - Impute mean\n",
    "- Scaling\n",
    "> -  Min-Max or StandardScaling\n"
   ]
  },
  {
   "cell_type": "code",
   "execution_count": 29,
   "id": "23e01ab0",
   "metadata": {},
   "outputs": [
    {
     "name": "stdout",
     "output_type": "stream",
     "text": [
      "\n"
     ]
    },
    {
     "data": {
      "text/plain": [
       "year                         1\n",
       "month                        2\n",
       "day                         30\n",
       "order                      154\n",
       "country                     36\n",
       "page 1 (main category)       4\n",
       "page 2 (clothing model)    217\n",
       "colour                      14\n",
       "location                     6\n",
       "model photography            2\n",
       "price                       20\n",
       "price 2                      2\n",
       "dtype: int64"
      ]
     },
     "execution_count": 29,
     "metadata": {},
     "output_type": "execute_result"
    },
    {
     "name": "stdout",
     "output_type": "stream",
     "text": [
      "\n",
      "------\n",
      "\n",
      "\n"
     ]
    },
    {
     "data": {
      "text/plain": [
       "year                        True\n",
       "month                       True\n",
       "day                        False\n",
       "order                      False\n",
       "country                    False\n",
       "page 1 (main category)      True\n",
       "page 2 (clothing model)    False\n",
       "colour                     False\n",
       "location                   False\n",
       "model photography           True\n",
       "price                      False\n",
       "price 2                     True\n",
       "dtype: bool"
      ]
     },
     "execution_count": 29,
     "metadata": {},
     "output_type": "execute_result"
    }
   ],
   "source": [
    "### 4.3\n",
    "###    Which columns are categorical\n",
    "###    but disguised as integers\n",
    "\n",
    "# 4.3 How many unique values per column.\n",
    "#     Check every column\n",
    "#     We will assume that if number of unique values\n",
    "#      are 4 or less it is categorical column else numeric\n",
    "\n",
    "print()\n",
    "X_train.nunique()        # Total no of unique values in each column\n",
    "\n",
    "# 4.4 If no. of unique values less than 5, it is categorical\n",
    "print(\"\\n------\\n\")\n",
    "print()\n",
    "X_train.nunique() < 5    # All True are categorical"
   ]
  },
  {
   "cell_type": "code",
   "execution_count": 30,
   "id": "210b5d8c",
   "metadata": {},
   "outputs": [],
   "source": [
    "# 4.5 Extract list of cat_cols and num_cols:\n",
    "\n",
    "# 4.6 First note which are cat and which are num\n",
    "dg = (X_train.nunique() < 5)  \n",
    "\n",
    "# 4.7 Then filter out names from Series index \n",
    "cat_cols = dg[dg==True].index.tolist()\n",
    "num_cols = dg[dg==False].index.tolist()"
   ]
  },
  {
   "cell_type": "code",
   "execution_count": 31,
   "id": "e9a7d63b",
   "metadata": {},
   "outputs": [
    {
     "data": {
      "text/plain": [
       "['year', 'month', 'page 1 (main category)', 'model photography', 'price 2']"
      ]
     },
     "execution_count": 31,
     "metadata": {},
     "output_type": "execute_result"
    },
    {
     "name": "stdout",
     "output_type": "stream",
     "text": [
      "\n"
     ]
    },
    {
     "data": {
      "text/plain": [
       "['day',\n",
       " 'order',\n",
       " 'country',\n",
       " 'page 2 (clothing model)',\n",
       " 'colour',\n",
       " 'location',\n",
       " 'price']"
      ]
     },
     "execution_count": 31,
     "metadata": {},
     "output_type": "execute_result"
    }
   ],
   "source": [
    "# 4.8 Here are the columns\n",
    "cat_cols    #  4\n",
    "print()\n",
    "num_cols    #  3"
   ]
  },
  {
   "cell_type": "code",
   "execution_count": 32,
   "id": "f9925908",
   "metadata": {},
   "outputs": [],
   "source": [
    "num_cols_mean=['month','day',\n",
    " 'order',\n",
    " 'country',\n",
    " 'colour',\n",
    " 'location',\n",
    " 'price']\n",
    "\n",
    "cat_cols_mf       = ['year', 'page 1 (main category)', 'page 2 (clothing model)', 'model photography', 'price 2'] "
   ]
  },
  {
   "cell_type": "code",
   "execution_count": 33,
   "id": "e78ad848",
   "metadata": {},
   "outputs": [
    {
     "data": {
      "text/html": [
       "<div>\n",
       "<style scoped>\n",
       "    .dataframe tbody tr th:only-of-type {\n",
       "        vertical-align: middle;\n",
       "    }\n",
       "\n",
       "    .dataframe tbody tr th {\n",
       "        vertical-align: top;\n",
       "    }\n",
       "\n",
       "    .dataframe thead th {\n",
       "        text-align: right;\n",
       "    }\n",
       "</style>\n",
       "<table border=\"1\" class=\"dataframe\">\n",
       "  <thead>\n",
       "    <tr style=\"text-align: right;\">\n",
       "      <th></th>\n",
       "      <th>month</th>\n",
       "      <th>day</th>\n",
       "      <th>order</th>\n",
       "      <th>country</th>\n",
       "      <th>colour</th>\n",
       "      <th>location</th>\n",
       "      <th>price</th>\n",
       "    </tr>\n",
       "  </thead>\n",
       "  <tbody>\n",
       "    <tr>\n",
       "      <th>56140</th>\n",
       "      <td>5</td>\n",
       "      <td>8</td>\n",
       "      <td>6</td>\n",
       "      <td>29</td>\n",
       "      <td>7</td>\n",
       "      <td>6</td>\n",
       "      <td>33</td>\n",
       "    </tr>\n",
       "    <tr>\n",
       "      <th>17367</th>\n",
       "      <td>4</td>\n",
       "      <td>9</td>\n",
       "      <td>6</td>\n",
       "      <td>29</td>\n",
       "      <td>9</td>\n",
       "      <td>5</td>\n",
       "      <td>23</td>\n",
       "    </tr>\n",
       "    <tr>\n",
       "      <th>46248</th>\n",
       "      <td>4</td>\n",
       "      <td>29</td>\n",
       "      <td>21</td>\n",
       "      <td>29</td>\n",
       "      <td>13</td>\n",
       "      <td>1</td>\n",
       "      <td>48</td>\n",
       "    </tr>\n",
       "    <tr>\n",
       "      <th>9554</th>\n",
       "      <td>4</td>\n",
       "      <td>4</td>\n",
       "      <td>1</td>\n",
       "      <td>29</td>\n",
       "      <td>2</td>\n",
       "      <td>6</td>\n",
       "      <td>38</td>\n",
       "    </tr>\n",
       "    <tr>\n",
       "      <th>44567</th>\n",
       "      <td>4</td>\n",
       "      <td>28</td>\n",
       "      <td>5</td>\n",
       "      <td>29</td>\n",
       "      <td>6</td>\n",
       "      <td>3</td>\n",
       "      <td>38</td>\n",
       "    </tr>\n",
       "    <tr>\n",
       "      <th>...</th>\n",
       "      <td>...</td>\n",
       "      <td>...</td>\n",
       "      <td>...</td>\n",
       "      <td>...</td>\n",
       "      <td>...</td>\n",
       "      <td>...</td>\n",
       "      <td>...</td>\n",
       "    </tr>\n",
       "    <tr>\n",
       "      <th>50409</th>\n",
       "      <td>5</td>\n",
       "      <td>3</td>\n",
       "      <td>23</td>\n",
       "      <td>29</td>\n",
       "      <td>14</td>\n",
       "      <td>4</td>\n",
       "      <td>43</td>\n",
       "    </tr>\n",
       "    <tr>\n",
       "      <th>62664</th>\n",
       "      <td>5</td>\n",
       "      <td>14</td>\n",
       "      <td>12</td>\n",
       "      <td>9</td>\n",
       "      <td>4</td>\n",
       "      <td>2</td>\n",
       "      <td>62</td>\n",
       "    </tr>\n",
       "    <tr>\n",
       "      <th>1075</th>\n",
       "      <td>4</td>\n",
       "      <td>1</td>\n",
       "      <td>13</td>\n",
       "      <td>29</td>\n",
       "      <td>2</td>\n",
       "      <td>5</td>\n",
       "      <td>62</td>\n",
       "    </tr>\n",
       "    <tr>\n",
       "      <th>17053</th>\n",
       "      <td>4</td>\n",
       "      <td>9</td>\n",
       "      <td>5</td>\n",
       "      <td>29</td>\n",
       "      <td>2</td>\n",
       "      <td>6</td>\n",
       "      <td>48</td>\n",
       "    </tr>\n",
       "    <tr>\n",
       "      <th>32326</th>\n",
       "      <td>4</td>\n",
       "      <td>19</td>\n",
       "      <td>10</td>\n",
       "      <td>3</td>\n",
       "      <td>7</td>\n",
       "      <td>4</td>\n",
       "      <td>33</td>\n",
       "    </tr>\n",
       "  </tbody>\n",
       "</table>\n",
       "<p>52428 rows × 7 columns</p>\n",
       "</div>"
      ],
      "text/plain": [
       "       month  day  order  country  colour  location  price\n",
       "56140      5    8      6       29       7         6     33\n",
       "17367      4    9      6       29       9         5     23\n",
       "46248      4   29     21       29      13         1     48\n",
       "9554       4    4      1       29       2         6     38\n",
       "44567      4   28      5       29       6         3     38\n",
       "...      ...  ...    ...      ...     ...       ...    ...\n",
       "50409      5    3     23       29      14         4     43\n",
       "62664      5   14     12        9       4         2     62\n",
       "1075       4    1     13       29       2         5     62\n",
       "17053      4    9      5       29       2         6     48\n",
       "32326      4   19     10        3       7         4     33\n",
       "\n",
       "[52428 rows x 7 columns]"
      ]
     },
     "execution_count": 33,
     "metadata": {},
     "output_type": "execute_result"
    },
    {
     "name": "stdout",
     "output_type": "stream",
     "text": [
      "\n"
     ]
    },
    {
     "data": {
      "text/html": [
       "<div>\n",
       "<style scoped>\n",
       "    .dataframe tbody tr th:only-of-type {\n",
       "        vertical-align: middle;\n",
       "    }\n",
       "\n",
       "    .dataframe tbody tr th {\n",
       "        vertical-align: top;\n",
       "    }\n",
       "\n",
       "    .dataframe thead th {\n",
       "        text-align: right;\n",
       "    }\n",
       "</style>\n",
       "<table border=\"1\" class=\"dataframe\">\n",
       "  <thead>\n",
       "    <tr style=\"text-align: right;\">\n",
       "      <th></th>\n",
       "      <th>year</th>\n",
       "      <th>page 1 (main category)</th>\n",
       "      <th>page 2 (clothing model)</th>\n",
       "      <th>model photography</th>\n",
       "      <th>price 2</th>\n",
       "    </tr>\n",
       "  </thead>\n",
       "  <tbody>\n",
       "    <tr>\n",
       "      <th>56140</th>\n",
       "      <td>2008</td>\n",
       "      <td>4</td>\n",
       "      <td>P16</td>\n",
       "      <td>1</td>\n",
       "      <td>2</td>\n",
       "    </tr>\n",
       "    <tr>\n",
       "      <th>17367</th>\n",
       "      <td>2008</td>\n",
       "      <td>3</td>\n",
       "      <td>C14</td>\n",
       "      <td>1</td>\n",
       "      <td>2</td>\n",
       "    </tr>\n",
       "    <tr>\n",
       "      <th>46248</th>\n",
       "      <td>2008</td>\n",
       "      <td>3</td>\n",
       "      <td>C55</td>\n",
       "      <td>1</td>\n",
       "      <td>1</td>\n",
       "    </tr>\n",
       "    <tr>\n",
       "      <th>9554</th>\n",
       "      <td>2008</td>\n",
       "      <td>4</td>\n",
       "      <td>P17</td>\n",
       "      <td>2</td>\n",
       "      <td>1</td>\n",
       "    </tr>\n",
       "    <tr>\n",
       "      <th>44567</th>\n",
       "      <td>2008</td>\n",
       "      <td>2</td>\n",
       "      <td>B25</td>\n",
       "      <td>1</td>\n",
       "      <td>2</td>\n",
       "    </tr>\n",
       "    <tr>\n",
       "      <th>...</th>\n",
       "      <td>...</td>\n",
       "      <td>...</td>\n",
       "      <td>...</td>\n",
       "      <td>...</td>\n",
       "      <td>...</td>\n",
       "    </tr>\n",
       "    <tr>\n",
       "      <th>50409</th>\n",
       "      <td>2008</td>\n",
       "      <td>3</td>\n",
       "      <td>C12</td>\n",
       "      <td>1</td>\n",
       "      <td>1</td>\n",
       "    </tr>\n",
       "    <tr>\n",
       "      <th>62664</th>\n",
       "      <td>2008</td>\n",
       "      <td>1</td>\n",
       "      <td>A22</td>\n",
       "      <td>1</td>\n",
       "      <td>1</td>\n",
       "    </tr>\n",
       "    <tr>\n",
       "      <th>1075</th>\n",
       "      <td>2008</td>\n",
       "      <td>2</td>\n",
       "      <td>B14</td>\n",
       "      <td>1</td>\n",
       "      <td>1</td>\n",
       "    </tr>\n",
       "    <tr>\n",
       "      <th>17053</th>\n",
       "      <td>2008</td>\n",
       "      <td>2</td>\n",
       "      <td>B34</td>\n",
       "      <td>1</td>\n",
       "      <td>2</td>\n",
       "    </tr>\n",
       "    <tr>\n",
       "      <th>32326</th>\n",
       "      <td>2008</td>\n",
       "      <td>3</td>\n",
       "      <td>C11</td>\n",
       "      <td>1</td>\n",
       "      <td>2</td>\n",
       "    </tr>\n",
       "  </tbody>\n",
       "</table>\n",
       "<p>52428 rows × 5 columns</p>\n",
       "</div>"
      ],
      "text/plain": [
       "       year  page 1 (main category) page 2 (clothing model)  \\\n",
       "56140  2008                       4                     P16   \n",
       "17367  2008                       3                     C14   \n",
       "46248  2008                       3                     C55   \n",
       "9554   2008                       4                     P17   \n",
       "44567  2008                       2                     B25   \n",
       "...     ...                     ...                     ...   \n",
       "50409  2008                       3                     C12   \n",
       "62664  2008                       1                     A22   \n",
       "1075   2008                       2                     B14   \n",
       "17053  2008                       2                     B34   \n",
       "32326  2008                       3                     C11   \n",
       "\n",
       "       model photography  price 2  \n",
       "56140                  1        2  \n",
       "17367                  1        2  \n",
       "46248                  1        1  \n",
       "9554                   2        1  \n",
       "44567                  1        2  \n",
       "...                  ...      ...  \n",
       "50409                  1        1  \n",
       "62664                  1        1  \n",
       "1075                   1        1  \n",
       "17053                  1        2  \n",
       "32326                  1        2  \n",
       "\n",
       "[52428 rows x 5 columns]"
      ]
     },
     "execution_count": 33,
     "metadata": {},
     "output_type": "execute_result"
    },
    {
     "name": "stdout",
     "output_type": "stream",
     "text": [
      "\n"
     ]
    }
   ],
   "source": [
    "# 4.11 So we have 2 datasets for imputing.\n",
    "#      Have a look:\n",
    "X_train[num_cols_mean]              # Num dataset, impute by 'mean'   strategy\n",
    "print()\n",
    "X_train[cat_cols_mf]                # Cat dataset, impute by 'most_frequent' strategy\n",
    "print()\n"
   ]
  },
  {
   "cell_type": "code",
   "execution_count": 34,
   "id": "ed9e9bba",
   "metadata": {},
   "outputs": [],
   "source": [
    "X_train_c = X_train.copy()\n",
    "X_test_c  = X_test.copy()"
   ]
  },
  {
   "cell_type": "code",
   "execution_count": 35,
   "id": "e85d984b",
   "metadata": {},
   "outputs": [],
   "source": [
    "# 10.1 Instantiate Pipeline object for processing\n",
    "#      cat data. Impute = most_frequent\n",
    "pipe1  =  Pipeline(\n",
    "                     [\n",
    "                      ('mf', SimpleImputer(strategy='most_frequent')),\n",
    "                      ('ohe', onehot())\n",
    "                     ]\n",
    "                   )"
   ]
  },
  {
   "cell_type": "code",
   "execution_count": 36,
   "id": "d6c12a21",
   "metadata": {},
   "outputs": [],
   "source": [
    "# 10.4 Instantiate Pipeline object for \n",
    "#      processing numerical data. Impute = mean\n",
    "#      Pipeline as a composite transformer\n",
    "pipe2 =     Pipeline(\n",
    "                      [\n",
    "                       ('si', SimpleImputer(strategy='mean')),\n",
    "                       ('ss1', StandardScaler())\n",
    "                      ]\n",
    "                    )"
   ]
  },
  {
   "cell_type": "code",
   "execution_count": 37,
   "id": "41b93cb7",
   "metadata": {},
   "outputs": [
    {
     "data": {
      "text/plain": [
       "<52428x226 sparse matrix of type '<class 'numpy.float64'>'\n",
       "\twith 262140 stored elements in Compressed Sparse Row format>"
      ]
     },
     "execution_count": 37,
     "metadata": {},
     "output_type": "execute_result"
    },
    {
     "data": {
      "text/plain": [
       "array([[ 1.66813788, -0.52546607, -0.30496052, ...,  0.16653361,\n",
       "         1.58880086, -0.85132845],\n",
       "       [-0.59947083, -0.40550781, -0.30496052, ...,  0.63555266,\n",
       "         1.00452655, -1.65684531],\n",
       "       [-0.59947083,  1.99365749,  0.90259137, ...,  1.57359076,\n",
       "        -1.3325707 ,  0.35694685],\n",
       "       ...,\n",
       "       [-0.59947083, -1.36517393,  0.2585637 , ..., -1.00601401,\n",
       "         1.00452655,  1.48467046],\n",
       "       [-0.59947083, -0.40550781, -0.38546398, ..., -1.00601401,\n",
       "         1.58880086,  0.35694685],\n",
       "       [-0.59947083,  0.79407484,  0.01705332, ...,  0.16653361,\n",
       "         0.42025224, -0.85132845]])"
      ]
     },
     "execution_count": 37,
     "metadata": {},
     "output_type": "execute_result"
    }
   ],
   "source": [
    "# 10.5\n",
    "# Test transformers:\n",
    "# Feed data to each pipe to see if it is working\n",
    "# It is like testing a sub-component\n",
    "# before full-plumbing is done.\n",
    "# No error should come.\n",
    "pipe1.fit_transform(X_train[cat_cols_mf])\n",
    "pipe2.fit_transform(X_train[num_cols_mean])"
   ]
  },
  {
   "cell_type": "code",
   "execution_count": 38,
   "id": "c63a4164",
   "metadata": {},
   "outputs": [],
   "source": [
    "# 10.6 Collecting all pipes in column transformer\n",
    "#     along with column names\n",
    "#     All pipes operate parallely\n",
    "#                       some-name  transformer     col-names\n",
    "\n",
    "ct_transformer = ColumnTransformer(\n",
    "                                    [\n",
    "                                      ('p_mf',   pipe1,   cat_cols_mf),\n",
    "                                      ('p_mean', pipe2,   num_cols_mean),\n",
    "                                    ]\n",
    "                                  )"
   ]
  },
  {
   "cell_type": "code",
   "execution_count": 39,
   "id": "25850f0d",
   "metadata": {},
   "outputs": [
    {
     "data": {
      "text/plain": [
       "<52428x233 sparse matrix of type '<class 'numpy.float64'>'\n",
       "\twith 629136 stored elements in Compressed Sparse Row format>"
      ]
     },
     "execution_count": 39,
     "metadata": {},
     "output_type": "execute_result"
    }
   ],
   "source": [
    "# 10.7 Test column transformet\n",
    "ct_transformer.fit_transform(X_train)"
   ]
  },
  {
   "cell_type": "code",
   "execution_count": 40,
   "id": "e6d6c87c",
   "metadata": {},
   "outputs": [],
   "source": [
    "# 10.8 Final pipeline for transformation and modeling\n",
    "#     final_pipe is both a \n",
    "outer_pipe = Pipeline(\n",
    "                      [\n",
    "                       ('ct', ct_transformer),        # Column transformer object\n",
    "                       ('rf', RandomForestClassifier()) # Estimator\n",
    "                      ]\n",
    "                     )"
   ]
  },
  {
   "cell_type": "code",
   "execution_count": 41,
   "id": "c6172595",
   "metadata": {},
   "outputs": [
    {
     "data": {
      "text/html": [
       "<style>#sk-container-id-1 {color: black;background-color: white;}#sk-container-id-1 pre{padding: 0;}#sk-container-id-1 div.sk-toggleable {background-color: white;}#sk-container-id-1 label.sk-toggleable__label {cursor: pointer;display: block;width: 100%;margin-bottom: 0;padding: 0.3em;box-sizing: border-box;text-align: center;}#sk-container-id-1 label.sk-toggleable__label-arrow:before {content: \"▸\";float: left;margin-right: 0.25em;color: #696969;}#sk-container-id-1 label.sk-toggleable__label-arrow:hover:before {color: black;}#sk-container-id-1 div.sk-estimator:hover label.sk-toggleable__label-arrow:before {color: black;}#sk-container-id-1 div.sk-toggleable__content {max-height: 0;max-width: 0;overflow: hidden;text-align: left;background-color: #f0f8ff;}#sk-container-id-1 div.sk-toggleable__content pre {margin: 0.2em;color: black;border-radius: 0.25em;background-color: #f0f8ff;}#sk-container-id-1 input.sk-toggleable__control:checked~div.sk-toggleable__content {max-height: 200px;max-width: 100%;overflow: auto;}#sk-container-id-1 input.sk-toggleable__control:checked~label.sk-toggleable__label-arrow:before {content: \"▾\";}#sk-container-id-1 div.sk-estimator input.sk-toggleable__control:checked~label.sk-toggleable__label {background-color: #d4ebff;}#sk-container-id-1 div.sk-label input.sk-toggleable__control:checked~label.sk-toggleable__label {background-color: #d4ebff;}#sk-container-id-1 input.sk-hidden--visually {border: 0;clip: rect(1px 1px 1px 1px);clip: rect(1px, 1px, 1px, 1px);height: 1px;margin: -1px;overflow: hidden;padding: 0;position: absolute;width: 1px;}#sk-container-id-1 div.sk-estimator {font-family: monospace;background-color: #f0f8ff;border: 1px dotted black;border-radius: 0.25em;box-sizing: border-box;margin-bottom: 0.5em;}#sk-container-id-1 div.sk-estimator:hover {background-color: #d4ebff;}#sk-container-id-1 div.sk-parallel-item::after {content: \"\";width: 100%;border-bottom: 1px solid gray;flex-grow: 1;}#sk-container-id-1 div.sk-label:hover label.sk-toggleable__label {background-color: #d4ebff;}#sk-container-id-1 div.sk-serial::before {content: \"\";position: absolute;border-left: 1px solid gray;box-sizing: border-box;top: 0;bottom: 0;left: 50%;z-index: 0;}#sk-container-id-1 div.sk-serial {display: flex;flex-direction: column;align-items: center;background-color: white;padding-right: 0.2em;padding-left: 0.2em;position: relative;}#sk-container-id-1 div.sk-item {position: relative;z-index: 1;}#sk-container-id-1 div.sk-parallel {display: flex;align-items: stretch;justify-content: center;background-color: white;position: relative;}#sk-container-id-1 div.sk-item::before, #sk-container-id-1 div.sk-parallel-item::before {content: \"\";position: absolute;border-left: 1px solid gray;box-sizing: border-box;top: 0;bottom: 0;left: 50%;z-index: -1;}#sk-container-id-1 div.sk-parallel-item {display: flex;flex-direction: column;z-index: 1;position: relative;background-color: white;}#sk-container-id-1 div.sk-parallel-item:first-child::after {align-self: flex-end;width: 50%;}#sk-container-id-1 div.sk-parallel-item:last-child::after {align-self: flex-start;width: 50%;}#sk-container-id-1 div.sk-parallel-item:only-child::after {width: 0;}#sk-container-id-1 div.sk-dashed-wrapped {border: 1px dashed gray;margin: 0 0.4em 0.5em 0.4em;box-sizing: border-box;padding-bottom: 0.4em;background-color: white;}#sk-container-id-1 div.sk-label label {font-family: monospace;font-weight: bold;display: inline-block;line-height: 1.2em;}#sk-container-id-1 div.sk-label-container {text-align: center;}#sk-container-id-1 div.sk-container {/* jupyter's `normalize.less` sets `[hidden] { display: none; }` but bootstrap.min.css set `[hidden] { display: none !important; }` so we also need the `!important` here to be able to override the default hidden behavior on the sphinx rendered scikit-learn.org. See: https://github.com/scikit-learn/scikit-learn/issues/21755 */display: inline-block !important;position: relative;}#sk-container-id-1 div.sk-text-repr-fallback {display: none;}</style><div id=\"sk-container-id-1\" class=\"sk-top-container\"><div class=\"sk-text-repr-fallback\"><pre>Pipeline(steps=[(&#x27;ct&#x27;,\n",
       "                 ColumnTransformer(transformers=[(&#x27;p_mf&#x27;,\n",
       "                                                  Pipeline(steps=[(&#x27;mf&#x27;,\n",
       "                                                                   SimpleImputer(strategy=&#x27;most_frequent&#x27;)),\n",
       "                                                                  (&#x27;ohe&#x27;,\n",
       "                                                                   OneHotEncoder())]),\n",
       "                                                  [&#x27;year&#x27;,\n",
       "                                                   &#x27;page 1 (main category)&#x27;,\n",
       "                                                   &#x27;page 2 (clothing model)&#x27;,\n",
       "                                                   &#x27;model photography&#x27;,\n",
       "                                                   &#x27;price 2&#x27;]),\n",
       "                                                 (&#x27;p_mean&#x27;,\n",
       "                                                  Pipeline(steps=[(&#x27;si&#x27;,\n",
       "                                                                   SimpleImputer()),\n",
       "                                                                  (&#x27;ss1&#x27;,\n",
       "                                                                   StandardScaler())]),\n",
       "                                                  [&#x27;month&#x27;, &#x27;day&#x27;, &#x27;order&#x27;,\n",
       "                                                   &#x27;country&#x27;, &#x27;colour&#x27;,\n",
       "                                                   &#x27;location&#x27;, &#x27;price&#x27;])])),\n",
       "                (&#x27;rf&#x27;, RandomForestClassifier())])</pre><b>In a Jupyter environment, please rerun this cell to show the HTML representation or trust the notebook. <br />On GitHub, the HTML representation is unable to render, please try loading this page with nbviewer.org.</b></div><div class=\"sk-container\" hidden><div class=\"sk-item sk-dashed-wrapped\"><div class=\"sk-label-container\"><div class=\"sk-label sk-toggleable\"><input class=\"sk-toggleable__control sk-hidden--visually\" id=\"sk-estimator-id-1\" type=\"checkbox\" ><label for=\"sk-estimator-id-1\" class=\"sk-toggleable__label sk-toggleable__label-arrow\">Pipeline</label><div class=\"sk-toggleable__content\"><pre>Pipeline(steps=[(&#x27;ct&#x27;,\n",
       "                 ColumnTransformer(transformers=[(&#x27;p_mf&#x27;,\n",
       "                                                  Pipeline(steps=[(&#x27;mf&#x27;,\n",
       "                                                                   SimpleImputer(strategy=&#x27;most_frequent&#x27;)),\n",
       "                                                                  (&#x27;ohe&#x27;,\n",
       "                                                                   OneHotEncoder())]),\n",
       "                                                  [&#x27;year&#x27;,\n",
       "                                                   &#x27;page 1 (main category)&#x27;,\n",
       "                                                   &#x27;page 2 (clothing model)&#x27;,\n",
       "                                                   &#x27;model photography&#x27;,\n",
       "                                                   &#x27;price 2&#x27;]),\n",
       "                                                 (&#x27;p_mean&#x27;,\n",
       "                                                  Pipeline(steps=[(&#x27;si&#x27;,\n",
       "                                                                   SimpleImputer()),\n",
       "                                                                  (&#x27;ss1&#x27;,\n",
       "                                                                   StandardScaler())]),\n",
       "                                                  [&#x27;month&#x27;, &#x27;day&#x27;, &#x27;order&#x27;,\n",
       "                                                   &#x27;country&#x27;, &#x27;colour&#x27;,\n",
       "                                                   &#x27;location&#x27;, &#x27;price&#x27;])])),\n",
       "                (&#x27;rf&#x27;, RandomForestClassifier())])</pre></div></div></div><div class=\"sk-serial\"><div class=\"sk-item sk-dashed-wrapped\"><div class=\"sk-label-container\"><div class=\"sk-label sk-toggleable\"><input class=\"sk-toggleable__control sk-hidden--visually\" id=\"sk-estimator-id-2\" type=\"checkbox\" ><label for=\"sk-estimator-id-2\" class=\"sk-toggleable__label sk-toggleable__label-arrow\">ct: ColumnTransformer</label><div class=\"sk-toggleable__content\"><pre>ColumnTransformer(transformers=[(&#x27;p_mf&#x27;,\n",
       "                                 Pipeline(steps=[(&#x27;mf&#x27;,\n",
       "                                                  SimpleImputer(strategy=&#x27;most_frequent&#x27;)),\n",
       "                                                 (&#x27;ohe&#x27;, OneHotEncoder())]),\n",
       "                                 [&#x27;year&#x27;, &#x27;page 1 (main category)&#x27;,\n",
       "                                  &#x27;page 2 (clothing model)&#x27;,\n",
       "                                  &#x27;model photography&#x27;, &#x27;price 2&#x27;]),\n",
       "                                (&#x27;p_mean&#x27;,\n",
       "                                 Pipeline(steps=[(&#x27;si&#x27;, SimpleImputer()),\n",
       "                                                 (&#x27;ss1&#x27;, StandardScaler())]),\n",
       "                                 [&#x27;month&#x27;, &#x27;day&#x27;, &#x27;order&#x27;, &#x27;country&#x27;, &#x27;colour&#x27;,\n",
       "                                  &#x27;location&#x27;, &#x27;price&#x27;])])</pre></div></div></div><div class=\"sk-parallel\"><div class=\"sk-parallel-item\"><div class=\"sk-item\"><div class=\"sk-label-container\"><div class=\"sk-label sk-toggleable\"><input class=\"sk-toggleable__control sk-hidden--visually\" id=\"sk-estimator-id-3\" type=\"checkbox\" ><label for=\"sk-estimator-id-3\" class=\"sk-toggleable__label sk-toggleable__label-arrow\">p_mf</label><div class=\"sk-toggleable__content\"><pre>[&#x27;year&#x27;, &#x27;page 1 (main category)&#x27;, &#x27;page 2 (clothing model)&#x27;, &#x27;model photography&#x27;, &#x27;price 2&#x27;]</pre></div></div></div><div class=\"sk-serial\"><div class=\"sk-item\"><div class=\"sk-serial\"><div class=\"sk-item\"><div class=\"sk-estimator sk-toggleable\"><input class=\"sk-toggleable__control sk-hidden--visually\" id=\"sk-estimator-id-4\" type=\"checkbox\" ><label for=\"sk-estimator-id-4\" class=\"sk-toggleable__label sk-toggleable__label-arrow\">SimpleImputer</label><div class=\"sk-toggleable__content\"><pre>SimpleImputer(strategy=&#x27;most_frequent&#x27;)</pre></div></div></div><div class=\"sk-item\"><div class=\"sk-estimator sk-toggleable\"><input class=\"sk-toggleable__control sk-hidden--visually\" id=\"sk-estimator-id-5\" type=\"checkbox\" ><label for=\"sk-estimator-id-5\" class=\"sk-toggleable__label sk-toggleable__label-arrow\">OneHotEncoder</label><div class=\"sk-toggleable__content\"><pre>OneHotEncoder()</pre></div></div></div></div></div></div></div></div><div class=\"sk-parallel-item\"><div class=\"sk-item\"><div class=\"sk-label-container\"><div class=\"sk-label sk-toggleable\"><input class=\"sk-toggleable__control sk-hidden--visually\" id=\"sk-estimator-id-6\" type=\"checkbox\" ><label for=\"sk-estimator-id-6\" class=\"sk-toggleable__label sk-toggleable__label-arrow\">p_mean</label><div class=\"sk-toggleable__content\"><pre>[&#x27;month&#x27;, &#x27;day&#x27;, &#x27;order&#x27;, &#x27;country&#x27;, &#x27;colour&#x27;, &#x27;location&#x27;, &#x27;price&#x27;]</pre></div></div></div><div class=\"sk-serial\"><div class=\"sk-item\"><div class=\"sk-serial\"><div class=\"sk-item\"><div class=\"sk-estimator sk-toggleable\"><input class=\"sk-toggleable__control sk-hidden--visually\" id=\"sk-estimator-id-7\" type=\"checkbox\" ><label for=\"sk-estimator-id-7\" class=\"sk-toggleable__label sk-toggleable__label-arrow\">SimpleImputer</label><div class=\"sk-toggleable__content\"><pre>SimpleImputer()</pre></div></div></div><div class=\"sk-item\"><div class=\"sk-estimator sk-toggleable\"><input class=\"sk-toggleable__control sk-hidden--visually\" id=\"sk-estimator-id-8\" type=\"checkbox\" ><label for=\"sk-estimator-id-8\" class=\"sk-toggleable__label sk-toggleable__label-arrow\">StandardScaler</label><div class=\"sk-toggleable__content\"><pre>StandardScaler()</pre></div></div></div></div></div></div></div></div></div></div><div class=\"sk-item\"><div class=\"sk-estimator sk-toggleable\"><input class=\"sk-toggleable__control sk-hidden--visually\" id=\"sk-estimator-id-9\" type=\"checkbox\" ><label for=\"sk-estimator-id-9\" class=\"sk-toggleable__label sk-toggleable__label-arrow\">RandomForestClassifier</label><div class=\"sk-toggleable__content\"><pre>RandomForestClassifier()</pre></div></div></div></div></div></div></div>"
      ],
      "text/plain": [
       "Pipeline(steps=[('ct',\n",
       "                 ColumnTransformer(transformers=[('p_mf',\n",
       "                                                  Pipeline(steps=[('mf',\n",
       "                                                                   SimpleImputer(strategy='most_frequent')),\n",
       "                                                                  ('ohe',\n",
       "                                                                   OneHotEncoder())]),\n",
       "                                                  ['year',\n",
       "                                                   'page 1 (main category)',\n",
       "                                                   'page 2 (clothing model)',\n",
       "                                                   'model photography',\n",
       "                                                   'price 2']),\n",
       "                                                 ('p_mean',\n",
       "                                                  Pipeline(steps=[('si',\n",
       "                                                                   SimpleImputer()),\n",
       "                                                                  ('ss1',\n",
       "                                                                   StandardScaler())]),\n",
       "                                                  ['month', 'day', 'order',\n",
       "                                                   'country', 'colour',\n",
       "                                                   'location', 'price'])])),\n",
       "                ('rf', RandomForestClassifier())])"
      ]
     },
     "execution_count": 41,
     "metadata": {},
     "output_type": "execute_result"
    }
   ],
   "source": [
    "# 11.0 Train on data using final_pipe\n",
    "#     We use (X_train, y_train)\n",
    "\n",
    "outer_pipe.fit(X_train,y_train)"
   ]
  },
  {
   "cell_type": "code",
   "execution_count": 42,
   "id": "fec6492f",
   "metadata": {},
   "outputs": [
    {
     "data": {
      "text/plain": [
       "array([4, 2, 1, ..., 1, 1, 1], dtype=int64)"
      ]
     },
     "execution_count": 42,
     "metadata": {},
     "output_type": "execute_result"
    }
   ],
   "source": [
    "# 11.1 Make prediction on test data\n",
    "#     Note that there is no need to separately\n",
    "#     transform X_test. Pipes take care of that\n",
    "\n",
    "outer_pipe.predict(X_test)"
   ]
  },
  {
   "cell_type": "code",
   "execution_count": 43,
   "id": "98f2dd01",
   "metadata": {},
   "outputs": [
    {
     "data": {
      "text/plain": [
       "20068    4\n",
       "63397    2\n",
       "47034    1\n",
       "8736     1\n",
       "21465    1\n",
       "        ..\n",
       "45750    2\n",
       "46542    1\n",
       "22186    1\n",
       "25674    1\n",
       "39751    1\n",
       "Name: page, Length: 13107, dtype: int64"
      ]
     },
     "execution_count": 43,
     "metadata": {},
     "output_type": "execute_result"
    }
   ],
   "source": [
    "# 11.2 But what is the actual y_test\n",
    "y_test\n",
    "# le.transform(y_test)"
   ]
  },
  {
   "cell_type": "code",
   "execution_count": 44,
   "id": "1da28592",
   "metadata": {},
   "outputs": [
    {
     "data": {
      "text/html": [
       "<style>#sk-container-id-2 {color: black;background-color: white;}#sk-container-id-2 pre{padding: 0;}#sk-container-id-2 div.sk-toggleable {background-color: white;}#sk-container-id-2 label.sk-toggleable__label {cursor: pointer;display: block;width: 100%;margin-bottom: 0;padding: 0.3em;box-sizing: border-box;text-align: center;}#sk-container-id-2 label.sk-toggleable__label-arrow:before {content: \"▸\";float: left;margin-right: 0.25em;color: #696969;}#sk-container-id-2 label.sk-toggleable__label-arrow:hover:before {color: black;}#sk-container-id-2 div.sk-estimator:hover label.sk-toggleable__label-arrow:before {color: black;}#sk-container-id-2 div.sk-toggleable__content {max-height: 0;max-width: 0;overflow: hidden;text-align: left;background-color: #f0f8ff;}#sk-container-id-2 div.sk-toggleable__content pre {margin: 0.2em;color: black;border-radius: 0.25em;background-color: #f0f8ff;}#sk-container-id-2 input.sk-toggleable__control:checked~div.sk-toggleable__content {max-height: 200px;max-width: 100%;overflow: auto;}#sk-container-id-2 input.sk-toggleable__control:checked~label.sk-toggleable__label-arrow:before {content: \"▾\";}#sk-container-id-2 div.sk-estimator input.sk-toggleable__control:checked~label.sk-toggleable__label {background-color: #d4ebff;}#sk-container-id-2 div.sk-label input.sk-toggleable__control:checked~label.sk-toggleable__label {background-color: #d4ebff;}#sk-container-id-2 input.sk-hidden--visually {border: 0;clip: rect(1px 1px 1px 1px);clip: rect(1px, 1px, 1px, 1px);height: 1px;margin: -1px;overflow: hidden;padding: 0;position: absolute;width: 1px;}#sk-container-id-2 div.sk-estimator {font-family: monospace;background-color: #f0f8ff;border: 1px dotted black;border-radius: 0.25em;box-sizing: border-box;margin-bottom: 0.5em;}#sk-container-id-2 div.sk-estimator:hover {background-color: #d4ebff;}#sk-container-id-2 div.sk-parallel-item::after {content: \"\";width: 100%;border-bottom: 1px solid gray;flex-grow: 1;}#sk-container-id-2 div.sk-label:hover label.sk-toggleable__label {background-color: #d4ebff;}#sk-container-id-2 div.sk-serial::before {content: \"\";position: absolute;border-left: 1px solid gray;box-sizing: border-box;top: 0;bottom: 0;left: 50%;z-index: 0;}#sk-container-id-2 div.sk-serial {display: flex;flex-direction: column;align-items: center;background-color: white;padding-right: 0.2em;padding-left: 0.2em;position: relative;}#sk-container-id-2 div.sk-item {position: relative;z-index: 1;}#sk-container-id-2 div.sk-parallel {display: flex;align-items: stretch;justify-content: center;background-color: white;position: relative;}#sk-container-id-2 div.sk-item::before, #sk-container-id-2 div.sk-parallel-item::before {content: \"\";position: absolute;border-left: 1px solid gray;box-sizing: border-box;top: 0;bottom: 0;left: 50%;z-index: -1;}#sk-container-id-2 div.sk-parallel-item {display: flex;flex-direction: column;z-index: 1;position: relative;background-color: white;}#sk-container-id-2 div.sk-parallel-item:first-child::after {align-self: flex-end;width: 50%;}#sk-container-id-2 div.sk-parallel-item:last-child::after {align-self: flex-start;width: 50%;}#sk-container-id-2 div.sk-parallel-item:only-child::after {width: 0;}#sk-container-id-2 div.sk-dashed-wrapped {border: 1px dashed gray;margin: 0 0.4em 0.5em 0.4em;box-sizing: border-box;padding-bottom: 0.4em;background-color: white;}#sk-container-id-2 div.sk-label label {font-family: monospace;font-weight: bold;display: inline-block;line-height: 1.2em;}#sk-container-id-2 div.sk-label-container {text-align: center;}#sk-container-id-2 div.sk-container {/* jupyter's `normalize.less` sets `[hidden] { display: none; }` but bootstrap.min.css set `[hidden] { display: none !important; }` so we also need the `!important` here to be able to override the default hidden behavior on the sphinx rendered scikit-learn.org. See: https://github.com/scikit-learn/scikit-learn/issues/21755 */display: inline-block !important;position: relative;}#sk-container-id-2 div.sk-text-repr-fallback {display: none;}</style><div id=\"sk-container-id-2\" class=\"sk-top-container\"><div class=\"sk-text-repr-fallback\"><pre>Pipeline(steps=[(&#x27;ct&#x27;,\n",
       "                 ColumnTransformer(transformers=[(&#x27;p_mf&#x27;,\n",
       "                                                  Pipeline(steps=[(&#x27;mf&#x27;,\n",
       "                                                                   SimpleImputer(strategy=&#x27;most_frequent&#x27;)),\n",
       "                                                                  (&#x27;ohe&#x27;,\n",
       "                                                                   OneHotEncoder())]),\n",
       "                                                  [&#x27;year&#x27;,\n",
       "                                                   &#x27;page 1 (main category)&#x27;,\n",
       "                                                   &#x27;page 2 (clothing model)&#x27;,\n",
       "                                                   &#x27;model photography&#x27;,\n",
       "                                                   &#x27;price 2&#x27;]),\n",
       "                                                 (&#x27;p_mean&#x27;,\n",
       "                                                  Pipeline(steps=[(&#x27;si&#x27;,\n",
       "                                                                   SimpleImputer()),\n",
       "                                                                  (&#x27;ss1&#x27;,\n",
       "                                                                   StandardScaler())]),\n",
       "                                                  [&#x27;month&#x27;, &#x27;day&#x27;, &#x27;order&#x27;,\n",
       "                                                   &#x27;country&#x27;, &#x27;colour&#x27;,\n",
       "                                                   &#x27;location&#x27;, &#x27;price&#x27;])])),\n",
       "                (&#x27;rf&#x27;, RandomForestClassifier())])</pre><b>In a Jupyter environment, please rerun this cell to show the HTML representation or trust the notebook. <br />On GitHub, the HTML representation is unable to render, please try loading this page with nbviewer.org.</b></div><div class=\"sk-container\" hidden><div class=\"sk-item sk-dashed-wrapped\"><div class=\"sk-label-container\"><div class=\"sk-label sk-toggleable\"><input class=\"sk-toggleable__control sk-hidden--visually\" id=\"sk-estimator-id-10\" type=\"checkbox\" ><label for=\"sk-estimator-id-10\" class=\"sk-toggleable__label sk-toggleable__label-arrow\">Pipeline</label><div class=\"sk-toggleable__content\"><pre>Pipeline(steps=[(&#x27;ct&#x27;,\n",
       "                 ColumnTransformer(transformers=[(&#x27;p_mf&#x27;,\n",
       "                                                  Pipeline(steps=[(&#x27;mf&#x27;,\n",
       "                                                                   SimpleImputer(strategy=&#x27;most_frequent&#x27;)),\n",
       "                                                                  (&#x27;ohe&#x27;,\n",
       "                                                                   OneHotEncoder())]),\n",
       "                                                  [&#x27;year&#x27;,\n",
       "                                                   &#x27;page 1 (main category)&#x27;,\n",
       "                                                   &#x27;page 2 (clothing model)&#x27;,\n",
       "                                                   &#x27;model photography&#x27;,\n",
       "                                                   &#x27;price 2&#x27;]),\n",
       "                                                 (&#x27;p_mean&#x27;,\n",
       "                                                  Pipeline(steps=[(&#x27;si&#x27;,\n",
       "                                                                   SimpleImputer()),\n",
       "                                                                  (&#x27;ss1&#x27;,\n",
       "                                                                   StandardScaler())]),\n",
       "                                                  [&#x27;month&#x27;, &#x27;day&#x27;, &#x27;order&#x27;,\n",
       "                                                   &#x27;country&#x27;, &#x27;colour&#x27;,\n",
       "                                                   &#x27;location&#x27;, &#x27;price&#x27;])])),\n",
       "                (&#x27;rf&#x27;, RandomForestClassifier())])</pre></div></div></div><div class=\"sk-serial\"><div class=\"sk-item sk-dashed-wrapped\"><div class=\"sk-label-container\"><div class=\"sk-label sk-toggleable\"><input class=\"sk-toggleable__control sk-hidden--visually\" id=\"sk-estimator-id-11\" type=\"checkbox\" ><label for=\"sk-estimator-id-11\" class=\"sk-toggleable__label sk-toggleable__label-arrow\">ct: ColumnTransformer</label><div class=\"sk-toggleable__content\"><pre>ColumnTransformer(transformers=[(&#x27;p_mf&#x27;,\n",
       "                                 Pipeline(steps=[(&#x27;mf&#x27;,\n",
       "                                                  SimpleImputer(strategy=&#x27;most_frequent&#x27;)),\n",
       "                                                 (&#x27;ohe&#x27;, OneHotEncoder())]),\n",
       "                                 [&#x27;year&#x27;, &#x27;page 1 (main category)&#x27;,\n",
       "                                  &#x27;page 2 (clothing model)&#x27;,\n",
       "                                  &#x27;model photography&#x27;, &#x27;price 2&#x27;]),\n",
       "                                (&#x27;p_mean&#x27;,\n",
       "                                 Pipeline(steps=[(&#x27;si&#x27;, SimpleImputer()),\n",
       "                                                 (&#x27;ss1&#x27;, StandardScaler())]),\n",
       "                                 [&#x27;month&#x27;, &#x27;day&#x27;, &#x27;order&#x27;, &#x27;country&#x27;, &#x27;colour&#x27;,\n",
       "                                  &#x27;location&#x27;, &#x27;price&#x27;])])</pre></div></div></div><div class=\"sk-parallel\"><div class=\"sk-parallel-item\"><div class=\"sk-item\"><div class=\"sk-label-container\"><div class=\"sk-label sk-toggleable\"><input class=\"sk-toggleable__control sk-hidden--visually\" id=\"sk-estimator-id-12\" type=\"checkbox\" ><label for=\"sk-estimator-id-12\" class=\"sk-toggleable__label sk-toggleable__label-arrow\">p_mf</label><div class=\"sk-toggleable__content\"><pre>[&#x27;year&#x27;, &#x27;page 1 (main category)&#x27;, &#x27;page 2 (clothing model)&#x27;, &#x27;model photography&#x27;, &#x27;price 2&#x27;]</pre></div></div></div><div class=\"sk-serial\"><div class=\"sk-item\"><div class=\"sk-serial\"><div class=\"sk-item\"><div class=\"sk-estimator sk-toggleable\"><input class=\"sk-toggleable__control sk-hidden--visually\" id=\"sk-estimator-id-13\" type=\"checkbox\" ><label for=\"sk-estimator-id-13\" class=\"sk-toggleable__label sk-toggleable__label-arrow\">SimpleImputer</label><div class=\"sk-toggleable__content\"><pre>SimpleImputer(strategy=&#x27;most_frequent&#x27;)</pre></div></div></div><div class=\"sk-item\"><div class=\"sk-estimator sk-toggleable\"><input class=\"sk-toggleable__control sk-hidden--visually\" id=\"sk-estimator-id-14\" type=\"checkbox\" ><label for=\"sk-estimator-id-14\" class=\"sk-toggleable__label sk-toggleable__label-arrow\">OneHotEncoder</label><div class=\"sk-toggleable__content\"><pre>OneHotEncoder()</pre></div></div></div></div></div></div></div></div><div class=\"sk-parallel-item\"><div class=\"sk-item\"><div class=\"sk-label-container\"><div class=\"sk-label sk-toggleable\"><input class=\"sk-toggleable__control sk-hidden--visually\" id=\"sk-estimator-id-15\" type=\"checkbox\" ><label for=\"sk-estimator-id-15\" class=\"sk-toggleable__label sk-toggleable__label-arrow\">p_mean</label><div class=\"sk-toggleable__content\"><pre>[&#x27;month&#x27;, &#x27;day&#x27;, &#x27;order&#x27;, &#x27;country&#x27;, &#x27;colour&#x27;, &#x27;location&#x27;, &#x27;price&#x27;]</pre></div></div></div><div class=\"sk-serial\"><div class=\"sk-item\"><div class=\"sk-serial\"><div class=\"sk-item\"><div class=\"sk-estimator sk-toggleable\"><input class=\"sk-toggleable__control sk-hidden--visually\" id=\"sk-estimator-id-16\" type=\"checkbox\" ><label for=\"sk-estimator-id-16\" class=\"sk-toggleable__label sk-toggleable__label-arrow\">SimpleImputer</label><div class=\"sk-toggleable__content\"><pre>SimpleImputer()</pre></div></div></div><div class=\"sk-item\"><div class=\"sk-estimator sk-toggleable\"><input class=\"sk-toggleable__control sk-hidden--visually\" id=\"sk-estimator-id-17\" type=\"checkbox\" ><label for=\"sk-estimator-id-17\" class=\"sk-toggleable__label sk-toggleable__label-arrow\">StandardScaler</label><div class=\"sk-toggleable__content\"><pre>StandardScaler()</pre></div></div></div></div></div></div></div></div></div></div><div class=\"sk-item\"><div class=\"sk-estimator sk-toggleable\"><input class=\"sk-toggleable__control sk-hidden--visually\" id=\"sk-estimator-id-18\" type=\"checkbox\" ><label for=\"sk-estimator-id-18\" class=\"sk-toggleable__label sk-toggleable__label-arrow\">RandomForestClassifier</label><div class=\"sk-toggleable__content\"><pre>RandomForestClassifier()</pre></div></div></div></div></div></div></div>"
      ],
      "text/plain": [
       "Pipeline(steps=[('ct',\n",
       "                 ColumnTransformer(transformers=[('p_mf',\n",
       "                                                  Pipeline(steps=[('mf',\n",
       "                                                                   SimpleImputer(strategy='most_frequent')),\n",
       "                                                                  ('ohe',\n",
       "                                                                   OneHotEncoder())]),\n",
       "                                                  ['year',\n",
       "                                                   'page 1 (main category)',\n",
       "                                                   'page 2 (clothing model)',\n",
       "                                                   'model photography',\n",
       "                                                   'price 2']),\n",
       "                                                 ('p_mean',\n",
       "                                                  Pipeline(steps=[('si',\n",
       "                                                                   SimpleImputer()),\n",
       "                                                                  ('ss1',\n",
       "                                                                   StandardScaler())]),\n",
       "                                                  ['month', 'day', 'order',\n",
       "                                                   'country', 'colour',\n",
       "                                                   'location', 'price'])])),\n",
       "                ('rf', RandomForestClassifier())])"
      ]
     },
     "execution_count": 44,
     "metadata": {},
     "output_type": "execute_result"
    }
   ],
   "source": [
    "# 11.3 Display pipeline as diagram\n",
    "# Ref:\n",
    "#  https://scikit-learn.org/stable/modules/compose.html#visualizing-composite-estimators\n",
    "\n",
    "from sklearn import set_config\n",
    "set_config(display='diagram')\n",
    "outer_pipe"
   ]
  },
  {
   "cell_type": "code",
   "execution_count": 45,
   "id": "dc5bc581",
   "metadata": {},
   "outputs": [
    {
     "data": {
      "text/plain": [
       "Pipeline(steps=[('ct',\n",
       "                 ColumnTransformer(transformers=[('p_mf',\n",
       "                                                  Pipeline(steps=[('mf',\n",
       "                                                                   SimpleImputer(strategy='most_frequent')),\n",
       "                                                                  ('ohe',\n",
       "                                                                   OneHotEncoder())]),\n",
       "                                                  ['year',\n",
       "                                                   'page 1 (main category)',\n",
       "                                                   'page 2 (clothing model)',\n",
       "                                                   'model photography',\n",
       "                                                   'price 2']),\n",
       "                                                 ('p_mean',\n",
       "                                                  Pipeline(steps=[('si',\n",
       "                                                                   SimpleImputer()),\n",
       "                                                                  ('ss1',\n",
       "                                                                   StandardScaler())]),\n",
       "                                                  ['month', 'day', 'order',\n",
       "                                                   'country', 'colour',\n",
       "                                                   'location', 'price'])])),\n",
       "                ('rf', RandomForestClassifier())])"
      ]
     },
     "execution_count": 45,
     "metadata": {},
     "output_type": "execute_result"
    }
   ],
   "source": [
    "# 11.4 Pipeline as text\n",
    "set_config(display='text')\n",
    "#final_pipe_transformer_estimator\n",
    "outer_pipe"
   ]
  },
  {
   "cell_type": "markdown",
   "id": "d82d640b",
   "metadata": {},
   "source": [
    "# Testing with test data "
   ]
  },
  {
   "cell_type": "code",
   "execution_count": 51,
   "id": "cceb9648",
   "metadata": {},
   "outputs": [
    {
     "data": {
      "text/html": [
       "<div>\n",
       "<style scoped>\n",
       "    .dataframe tbody tr th:only-of-type {\n",
       "        vertical-align: middle;\n",
       "    }\n",
       "\n",
       "    .dataframe tbody tr th {\n",
       "        vertical-align: top;\n",
       "    }\n",
       "\n",
       "    .dataframe thead th {\n",
       "        text-align: right;\n",
       "    }\n",
       "</style>\n",
       "<table border=\"1\" class=\"dataframe\">\n",
       "  <thead>\n",
       "    <tr style=\"text-align: right;\">\n",
       "      <th></th>\n",
       "      <th>year</th>\n",
       "      <th>month</th>\n",
       "      <th>day</th>\n",
       "      <th>order</th>\n",
       "      <th>country</th>\n",
       "      <th>page 1 (main category)</th>\n",
       "      <th>page 2 (clothing model)</th>\n",
       "      <th>colour</th>\n",
       "      <th>location</th>\n",
       "      <th>model photography</th>\n",
       "      <th>price</th>\n",
       "      <th>price 2</th>\n",
       "    </tr>\n",
       "  </thead>\n",
       "  <tbody>\n",
       "    <tr>\n",
       "      <th>18801</th>\n",
       "      <td>2008</td>\n",
       "      <td>4</td>\n",
       "      <td>10</td>\n",
       "      <td>19</td>\n",
       "      <td>29</td>\n",
       "      <td>4</td>\n",
       "      <td>P59</td>\n",
       "      <td>2</td>\n",
       "      <td>2</td>\n",
       "      <td>2</td>\n",
       "      <td>38</td>\n",
       "      <td>1</td>\n",
       "    </tr>\n",
       "    <tr>\n",
       "      <th>16311</th>\n",
       "      <td>2008</td>\n",
       "      <td>4</td>\n",
       "      <td>8</td>\n",
       "      <td>71</td>\n",
       "      <td>24</td>\n",
       "      <td>4</td>\n",
       "      <td>P9</td>\n",
       "      <td>4</td>\n",
       "      <td>3</td>\n",
       "      <td>2</td>\n",
       "      <td>23</td>\n",
       "      <td>2</td>\n",
       "    </tr>\n",
       "    <tr>\n",
       "      <th>25625</th>\n",
       "      <td>2008</td>\n",
       "      <td>4</td>\n",
       "      <td>14</td>\n",
       "      <td>11</td>\n",
       "      <td>29</td>\n",
       "      <td>3</td>\n",
       "      <td>C57</td>\n",
       "      <td>5</td>\n",
       "      <td>1</td>\n",
       "      <td>2</td>\n",
       "      <td>33</td>\n",
       "      <td>2</td>\n",
       "    </tr>\n",
       "    <tr>\n",
       "      <th>40681</th>\n",
       "      <td>2008</td>\n",
       "      <td>4</td>\n",
       "      <td>24</td>\n",
       "      <td>5</td>\n",
       "      <td>9</td>\n",
       "      <td>2</td>\n",
       "      <td>B33</td>\n",
       "      <td>6</td>\n",
       "      <td>5</td>\n",
       "      <td>2</td>\n",
       "      <td>33</td>\n",
       "      <td>2</td>\n",
       "    </tr>\n",
       "    <tr>\n",
       "      <th>22849</th>\n",
       "      <td>2008</td>\n",
       "      <td>4</td>\n",
       "      <td>12</td>\n",
       "      <td>12</td>\n",
       "      <td>9</td>\n",
       "      <td>3</td>\n",
       "      <td>C9</td>\n",
       "      <td>6</td>\n",
       "      <td>3</td>\n",
       "      <td>1</td>\n",
       "      <td>48</td>\n",
       "      <td>1</td>\n",
       "    </tr>\n",
       "  </tbody>\n",
       "</table>\n",
       "</div>"
      ],
      "text/plain": [
       "       year  month  day  order  country  page 1 (main category)  \\\n",
       "18801  2008      4   10     19       29                       4   \n",
       "16311  2008      4    8     71       24                       4   \n",
       "25625  2008      4   14     11       29                       3   \n",
       "40681  2008      4   24      5        9                       2   \n",
       "22849  2008      4   12     12        9                       3   \n",
       "\n",
       "      page 2 (clothing model)  colour  location  model photography  price  \\\n",
       "18801                     P59       2         2                  2     38   \n",
       "16311                      P9       4         3                  2     23   \n",
       "25625                     C57       5         1                  2     33   \n",
       "40681                     B33       6         5                  2     33   \n",
       "22849                      C9       6         3                  1     48   \n",
       "\n",
       "       price 2  \n",
       "18801        1  \n",
       "16311        2  \n",
       "25625        2  \n",
       "40681        2  \n",
       "22849        1  "
      ]
     },
     "execution_count": 51,
     "metadata": {},
     "output_type": "execute_result"
    }
   ],
   "source": [
    "df.head()"
   ]
  },
  {
   "cell_type": "code",
   "execution_count": 46,
   "id": "a19e8183",
   "metadata": {},
   "outputs": [],
   "source": [
    "df_test = pd.read_csv(\"C://Users//HP//Downloads//TestData.csv\")"
   ]
  },
  {
   "cell_type": "code",
   "execution_count": 47,
   "id": "25f7fad9",
   "metadata": {},
   "outputs": [
    {
     "data": {
      "text/html": [
       "<div>\n",
       "<style scoped>\n",
       "    .dataframe tbody tr th:only-of-type {\n",
       "        vertical-align: middle;\n",
       "    }\n",
       "\n",
       "    .dataframe tbody tr th {\n",
       "        vertical-align: top;\n",
       "    }\n",
       "\n",
       "    .dataframe thead th {\n",
       "        text-align: right;\n",
       "    }\n",
       "</style>\n",
       "<table border=\"1\" class=\"dataframe\">\n",
       "  <thead>\n",
       "    <tr style=\"text-align: right;\">\n",
       "      <th></th>\n",
       "      <th>year</th>\n",
       "      <th>month</th>\n",
       "      <th>day</th>\n",
       "      <th>order</th>\n",
       "      <th>country</th>\n",
       "      <th>session ID</th>\n",
       "      <th>page 1 (main category)</th>\n",
       "      <th>page 2 (clothing model)</th>\n",
       "      <th>colour</th>\n",
       "      <th>location</th>\n",
       "      <th>model photography</th>\n",
       "      <th>price</th>\n",
       "      <th>price 2</th>\n",
       "    </tr>\n",
       "  </thead>\n",
       "  <tbody>\n",
       "    <tr>\n",
       "      <th>0</th>\n",
       "      <td>2008</td>\n",
       "      <td>4</td>\n",
       "      <td>1</td>\n",
       "      <td>3</td>\n",
       "      <td>29</td>\n",
       "      <td>2</td>\n",
       "      <td>2</td>\n",
       "      <td>B24</td>\n",
       "      <td>11</td>\n",
       "      <td>2</td>\n",
       "      <td>1</td>\n",
       "      <td>57</td>\n",
       "      <td>1</td>\n",
       "    </tr>\n",
       "  </tbody>\n",
       "</table>\n",
       "</div>"
      ],
      "text/plain": [
       "   year  month  day  order  country  session ID  page 1 (main category)  \\\n",
       "0  2008      4    1      3       29           2                       2   \n",
       "\n",
       "  page 2 (clothing model)  colour  location  model photography  price  price 2  \n",
       "0                     B24      11         2                  1     57        1  "
      ]
     },
     "execution_count": 47,
     "metadata": {},
     "output_type": "execute_result"
    }
   ],
   "source": [
    "df_test\n"
   ]
  },
  {
   "cell_type": "code",
   "execution_count": 48,
   "id": "dd2bbffb",
   "metadata": {},
   "outputs": [
    {
     "data": {
      "text/plain": [
       "array([2], dtype=int64)"
      ]
     },
     "execution_count": 48,
     "metadata": {},
     "output_type": "execute_result"
    }
   ],
   "source": [
    "# 11.1 Make prediction on test data\n",
    "#     Note that there is no need to separately\n",
    "#     transform X_test. Pipes take care of that\n",
    "\n",
    "outer_pipe.predict(df_test)"
   ]
  },
  {
   "cell_type": "markdown",
   "id": "f72b3535",
   "metadata": {},
   "source": [
    "OBSERVATION: The model predicts a class or label for the given test data, and in this case, it predicts the class label 2.The prediction result is an array with a single element which [2] as we have one taget variable that is Page which means  it belongs to the Page category 2 ( In Page Number 2 within the e-store website we can find the test data that we want to search).  "
   ]
  },
  {
   "cell_type": "code",
   "execution_count": null,
   "id": "471b2cc8",
   "metadata": {},
   "outputs": [],
   "source": []
  }
 ],
 "metadata": {
  "kernelspec": {
   "display_name": "Python 3 (ipykernel)",
   "language": "python",
   "name": "python3"
  },
  "language_info": {
   "codemirror_mode": {
    "name": "ipython",
    "version": 3
   },
   "file_extension": ".py",
   "mimetype": "text/x-python",
   "name": "python",
   "nbconvert_exporter": "python",
   "pygments_lexer": "ipython3",
   "version": "3.11.3"
  }
 },
 "nbformat": 4,
 "nbformat_minor": 5
}
